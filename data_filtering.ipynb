{
  "nbformat": 4,
  "nbformat_minor": 0,
  "metadata": {
    "colab": {
      "provenance": []
    },
    "kernelspec": {
      "name": "python3",
      "display_name": "Python 3"
    },
    "language_info": {
      "name": "python"
    }
  },
  "cells": [
    {
      "cell_type": "code",
      "source": [
        "from google.colab import drive\n",
        "import os\n",
        "import pandas as pd\n",
        "\n",
        "# Mount Google Drive\n",
        "drive.mount('/content/drive')"
      ],
      "metadata": {
        "colab": {
          "base_uri": "https://localhost:8080/"
        },
        "id": "8SeHSlZBOZqQ",
        "outputId": "a1ae4172-a3d4-4ed0-df7c-77370537920a"
      },
      "execution_count": 1,
      "outputs": [
        {
          "output_type": "stream",
          "name": "stdout",
          "text": [
            "Drive already mounted at /content/drive; to attempt to forcibly remount, call drive.mount(\"/content/drive\", force_remount=True).\n"
          ]
        }
      ]
    },
    {
      "cell_type": "code",
      "execution_count": 2,
      "metadata": {
        "id": "O0JR4l6BOFYa",
        "colab": {
          "base_uri": "https://localhost:8080/"
        },
        "outputId": "fecb289d-d19a-4480-e250-03a4078d39b9"
      },
      "outputs": [
        {
          "output_type": "stream",
          "name": "stdout",
          "text": [
            "Processing complete.\n"
          ]
        }
      ],
      "source": [
        "import os\n",
        "import pandas as pd\n",
        "\n",
        "input_dir = \"/content/drive/MyDrive/ECE271B project/val/val/\"\n",
        "output_dir = \"/content/drive/MyDrive/ECE271B project/val/val_filtered/\"\n",
        "mia_dir = os.path.join(output_dir, \"MIA\")\n",
        "pt_dir = os.path.join(output_dir, \"PIT\")\n",
        "\n",
        "os.makedirs(mia_dir, exist_ok=True)\n",
        "os.makedirs(pt_dir, exist_ok=True)\n",
        "\n",
        "for file in os.listdir(input_dir):\n",
        "    if file.endswith(\".csv\"):\n",
        "        file_path = os.path.join(input_dir, file)\n",
        "\n",
        "        df = pd.read_csv(file_path)\n",
        "\n",
        "        df_filtered = df[df[\"OBJECT_TYPE\"] == \"AV\"]\n",
        "\n",
        "        if not df_filtered.empty:\n",
        "            city_name = df_filtered[\"CITY_NAME\"].iloc[0]\n",
        "            if city_name == \"MIA\":\n",
        "                output_folder = mia_dir\n",
        "                #print(f\"Processing file: {file} with City: {city_name}\")\n",
        "            elif city_name == \"PIT\":\n",
        "                #print(f\"Processing file: {file} with City: {city_name}\")\n",
        "                output_folder = pt_dir\n",
        "            else:\n",
        "                continue\n",
        "                print(f\"Skipping file: {file} with City: {city_name}\")\n",
        "            output_path = os.path.join(output_folder, file)\n",
        "            df_filtered.to_csv(output_path, index=False)\n",
        "        else:\n",
        "            print(f\"No AV objects found in file: {file}\")\n",
        "\n",
        "print(\"Processing complete.\")\n"
      ]
    },
    {
      "cell_type": "code",
      "source": [],
      "metadata": {
        "id": "Af2LIKzLPipi"
      },
      "execution_count": null,
      "outputs": []
    }
  ]
}